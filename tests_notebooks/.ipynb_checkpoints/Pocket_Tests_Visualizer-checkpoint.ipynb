{
 "cells": [
  {
   "cell_type": "markdown",
   "metadata": {},
   "source": [
    "# Pocket Test"
   ]
  },
  {
   "cell_type": "code",
   "execution_count": 1,
   "metadata": {},
   "outputs": [],
   "source": [
    "import json\n",
    "\n",
    "with open('../cmake-build-debug/bin/training_output/pocket_training_evolution.json', 'r') as file:\n",
    "    test_output = json.load(file)"
   ]
  },
  {
   "cell_type": "code",
   "execution_count": 2,
   "metadata": {},
   "outputs": [],
   "source": [
    "test_data = test_output['data']\n",
    "test_labels = test_output['labels']\n",
    "learning_evolution = test_output['weights']\n",
    "learning_losses = test_output['losses']\n",
    "\n",
    "trainig_iterations = len(learning_evolution)\n",
    "weights = learning_evolution[-1]"
   ]
  },
  {
   "cell_type": "code",
   "execution_count": 3,
   "metadata": {},
   "outputs": [
    {
     "data": {
      "text/plain": [
       "[[0.0, 2.0],\n",
       " [1.0, 0.0],\n",
       " [1.0, 1.0],\n",
       " [1.0, 2.0],\n",
       " [1.0, 3.0],\n",
       " [1.0, 3.5],\n",
       " [2.0, 1.0],\n",
       " [2.0, 2.0],\n",
       " [2.0, 3.0],\n",
       " [2.0, 3.5],\n",
       " [3.0, 0.0],\n",
       " [3.0, 2.0],\n",
       " [2.7, 3.3],\n",
       " [4.0, 1.0],\n",
       " [1.0, 4.0],\n",
       " [2.0, 4.0],\n",
       " [2.0, 5.0],\n",
       " [2.5, 3.0],\n",
       " [2.5, 4.0],\n",
       " [3.0, 3.0],\n",
       " [3.0, 4.5],\n",
       " [3.0, 6.0],\n",
       " [4.0, 2.5],\n",
       " [4.0, 3.5],\n",
       " [4.0, 5.0],\n",
       " [5.0, 2.0],\n",
       " [5.0, 3.0],\n",
       " [5.0, 4.0]]"
      ]
     },
     "execution_count": 3,
     "metadata": {},
     "output_type": "execute_result"
    }
   ],
   "source": [
    "test_data"
   ]
  },
  {
   "cell_type": "code",
   "execution_count": 4,
   "metadata": {},
   "outputs": [],
   "source": [
    "red_dots = []\n",
    "blue_dots = []\n",
    "\n",
    "for i, dot in enumerate(test_data):\n",
    "    if test_labels[i] == 1:\n",
    "        red_dots.append(dot)\n",
    "    elif test_labels[i] == -1:\n",
    "        blue_dots.append(dot)"
   ]
  },
  {
   "cell_type": "code",
   "execution_count": 5,
   "metadata": {},
   "outputs": [],
   "source": [
    "def hypothesis(x):\n",
    "    return (-(weights[0]/weights[1]) * x) - (weights[2] / weights[1])"
   ]
  },
  {
   "cell_type": "code",
   "execution_count": 6,
   "metadata": {},
   "outputs": [
    {
     "data": {
      "image/png": "[encoded data removed]",
      "text/plain": [
       "<Figure size 432x288 with 1 Axes>"
      ]
     },
     "metadata": {
      "needs_background": "light"
     },
     "output_type": "display_data"
    }
   ],
   "source": [
    "import matplotlib.pyplot as plt\n",
    "import numpy as np\n",
    "\n",
    "plt.scatter([point[0] for point in red_dots], [point[1] for point in red_dots], c='red')\n",
    "plt.scatter([point[0] for point in blue_dots], [point[1] for point in blue_dots], c='blue')\n",
    "\n",
    "x = np.arange(0., 5., 0.2)\n",
    "y = []\n",
    "\n",
    "for t in x:\n",
    "    y.append(hypothesis(t))\n",
    "    \n",
    "plt.plot(x, y, 'r--')\n",
    "plt.savefig('../plots/pocket_model_view.png')"
   ]
  },
  {
   "cell_type": "code",
   "execution_count": 7,
   "metadata": {},
   "outputs": [
    {
     "data": {
      "image/png": "[encoded data removed]",
      "text/plain": [
       "<Figure size 432x288 with 1 Axes>"
      ]
     },
     "metadata": {
      "needs_background": "light"
     },
     "output_type": "display_data"
    }
   ],
   "source": [
    "import matplotlib.pyplot as plt\n",
    "import numpy as np\n",
    "\n",
    "x = range(len(learning_losses))\n",
    "y = []\n",
    "\n",
    "for t in x:\n",
    "    y.append(learning_losses[t])\n",
    "    \n",
    "plt.plot(x, y, 'r')\n",
    "plt.savefig('../plots/pocket_loss.png')"
   ]
  },
  {
   "cell_type": "code",
   "execution_count": null,
   "metadata": {},
   "outputs": [],
   "source": []
  }
 ],
 "metadata": {
  "kernelspec": {
   "display_name": "Python 3",
   "language": "python",
   "name": "python3"
  },
  "language_info": {
   "codemirror_mode": {
    "name": "ipython",
    "version": 3
   },
   "file_extension": ".py",
   "mimetype": "text/x-python",
   "name": "python",
   "nbconvert_exporter": "python",
   "pygments_lexer": "ipython3",
   "version": "3.8.5"
  }
 },
 "nbformat": 4,
 "nbformat_minor": 4
}
