{
 "cells": [
  {
   "cell_type": "markdown",
   "metadata": {},
   "source": [
    "# Perceptron Test"
   ]
  },
  {
   "cell_type": "code",
   "execution_count": 1,
   "metadata": {},
   "outputs": [],
   "source": [
    "import json\n",
    "\n",
    "with open('cmake-build-debug/bin/perceptron_training_evolution.json', 'r') as file:\n",
    "    test_output = json.load(file)"
   ]
  },
  {
   "cell_type": "code",
   "execution_count": 2,
   "metadata": {},
   "outputs": [],
   "source": [
    "test_data = test_output['data']\n",
    "test_labels = test_output['labels']\n",
    "learning_evolution = test_output['weights']\n",
    "\n",
    "trainig_iterations = len(learning_evolution)\n",
    "weights = learning_evolution[-1]"
   ]
  },
  {
   "cell_type": "code",
   "execution_count": 3,
   "metadata": {},
   "outputs": [
    {
     "data": {
      "text/plain": [
       "[[1.0, 1.0],\n",
       " [2.0, 1.0],\n",
       " [2.0, 2.0],\n",
       " [1.0, 3.0],\n",
       " [3.0, 3.0],\n",
       " [2.0, 4.0],\n",
       " [5.0, 4.0],\n",
       " [4.0, 5.0]]"
      ]
     },
     "execution_count": 3,
     "metadata": {},
     "output_type": "execute_result"
    }
   ],
   "source": [
    "test_data"
   ]
  },
  {
   "cell_type": "code",
   "execution_count": 4,
   "metadata": {},
   "outputs": [],
   "source": [
    "red_dots = []\n",
    "blue_dots = []\n",
    "\n",
    "for i, dot in enumerate(test_data):\n",
    "    if test_labels[i] == 1:\n",
    "        red_dots.append(dot)\n",
    "    elif test_labels[i] == -1:\n",
    "        blue_dots.append(dot)"
   ]
  },
  {
   "cell_type": "code",
   "execution_count": 5,
   "metadata": {},
   "outputs": [],
   "source": [
    "def hypothesis(x):\n",
    "    return (-(weights[0]/weights[1]) * x) - (weights[2] / weights[1])"
   ]
  },
  {
   "cell_type": "code",
   "execution_count": 6,
   "metadata": {},
   "outputs": [
    {
     "data": {
      "text/plain": [
       "[<matplotlib.lines.Line2D at 0x7fe36d3e5910>]"
      ]
     },
     "execution_count": 6,
     "metadata": {},
     "output_type": "execute_result"
    },
    {
     "data": {
      "image/png": "[encoded data removed]",
      "text/plain": [
       "<Figure size 432x288 with 1 Axes>"
      ]
     },
     "metadata": {
      "needs_background": "light"
     },
     "output_type": "display_data"
    }
   ],
   "source": [
    "import matplotlib.pyplot as plt\n",
    "import numpy as np\n",
    "\n",
    "plt.scatter([point[0] for point in red_dots], [point[1] for point in red_dots], c='red')\n",
    "plt.scatter([point[0] for point in blue_dots], [point[1] for point in blue_dots], c='blue')\n",
    "\n",
    "x = np.arange(0., 5., 0.2)\n",
    "y = []\n",
    "\n",
    "for t in x:\n",
    "    y.append(hypothesis(t))\n",
    "    \n",
    "plt.plot(x, y, 'r--')"
   ]
  },
  {
   "cell_type": "code",
   "execution_count": 7,
   "metadata": {},
   "outputs": [],
   "source": [
    "def iterated_hypothesis(iteration, x):\n",
    "    _weights = learning_evolution[iteration]\n",
    "    \n",
    "    return (-(_weights[0]/_weights[1]) * x) - (_weights[2] / _weights[1])"
   ]
  },
  {
   "cell_type": "code",
   "execution_count": 9,
   "metadata": {},
   "outputs": [
    {
     "data": {
      "image/png": "[encoded data removed]",
      "text/plain": [
       "<Figure size 432x288 with 1 Axes>"
      ]
     },
     "metadata": {
      "needs_background": "light"
     },
     "output_type": "display_data"
    }
   ],
   "source": [
    "import numpy as np\n",
    "import matplotlib\n",
    "matplotlib.use(\"Agg\")\n",
    "import matplotlib.pyplot as plt\n",
    "import matplotlib.animation as animation\n",
    "\n",
    "# Set up formatting for the movie files\n",
    "Writer = animation.writers['ffmpeg']\n",
    "writer = Writer(fps=30, metadata=dict(artist='Me'), bitrate=1800)\n",
    "\n",
    "fig1 = plt.figure()\n",
    "plt.ylim(0, 5)\n",
    "plt.xlim(0,5)\n",
    "x = np.arange(0., 5., 0.2)\n",
    "\n",
    "ims = []\n",
    "for i in range(trainig_iterations):\n",
    "    for j in range(3):\n",
    "        y = [iterated_hypothesis(i, t) for t in x]\n",
    "\n",
    "        ims.append((\n",
    "            plt.scatter([point[0] for point in red_dots], [point[1] for point in red_dots], c='red'),\n",
    "            plt.scatter([point[0] for point in blue_dots], [point[1] for point in blue_dots], c='blue'),\n",
    "            plt.plot(x, y, 'r--')[0]\n",
    "        ))\n",
    "        \n",
    "for j in range(20):\n",
    "    y = [hypothesis(t) for t in x]\n",
    "\n",
    "    ims.append((\n",
    "        plt.scatter([point[0] for point in red_dots], [point[1] for point in red_dots], c='red'),\n",
    "        plt.scatter([point[0] for point in blue_dots], [point[1] for point in blue_dots], c='blue'),\n",
    "        plt.plot(x, y, 'r--')[0]\n",
    "    ))\n",
    "\n",
    "im_ani = animation.ArtistAnimation(fig1, ims, interval=100, repeat_delay=10000,\n",
    "                                   blit=True)\n",
    "im_ani.save('perceptron.mp4', writer=writer)"
   ]
  },
  {
   "cell_type": "code",
   "execution_count": null,
   "metadata": {},
   "outputs": [],
   "source": []
  }
 ],
 "metadata": {
  "kernelspec": {
   "display_name": "Python 3",
   "language": "python",
   "name": "python3"
  },
  "language_info": {
   "codemirror_mode": {
    "name": "ipython",
    "version": 3
   },
   "file_extension": ".py",
   "mimetype": "text/x-python",
   "name": "python",
   "nbconvert_exporter": "python",
   "pygments_lexer": "ipython3",
   "version": "3.8.5"
  }
 },
 "nbformat": 4,
 "nbformat_minor": 4
}
